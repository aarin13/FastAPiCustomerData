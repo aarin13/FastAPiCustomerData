{
 "cells": [
  {
   "cell_type": "code",
   "execution_count": 2,
   "metadata": {},
   "outputs": [],
   "source": [
    "import numpy as np\n",
    "import pandas as pd"
   ]
  },
  {
   "cell_type": "code",
   "execution_count": 2,
   "metadata": {},
   "outputs": [],
   "source": [
    "data = pd.read_excel(r\"C:\\Users\\HP\\Desktop\\Bajaj_Assignment1\\Assignment1.xlsx\", sheet_name= None)"
   ]
  },
  {
   "cell_type": "code",
   "execution_count": 3,
   "metadata": {},
   "outputs": [
    {
     "data": {
      "text/plain": [
       "AccountId    0\n",
       "Name         0\n",
       "Age          0\n",
       "City         4\n",
       "State        4\n",
       "Pincode      4\n",
       "dtype: int64"
      ]
     },
     "execution_count": 3,
     "metadata": {},
     "output_type": "execute_result"
    }
   ],
   "source": [
    "data['Accounts'].isna().sum()"
   ]
  },
  {
   "cell_type": "code",
   "execution_count": 4,
   "metadata": {},
   "outputs": [],
   "source": [
    "data['Accounts'].City = data['Accounts'].City.fillna('Unknown')\n",
    "data['Accounts'].State = data['Accounts'].State.fillna('Unknown')\n",
    "data['Accounts'].Pincode = data['Accounts'].Pincode.fillna('0')\n"
   ]
  },
  {
   "cell_type": "code",
   "execution_count": 5,
   "metadata": {},
   "outputs": [
    {
     "data": {
      "text/plain": [
       "AccountId    0\n",
       "Name         0\n",
       "Age          0\n",
       "City         0\n",
       "State        0\n",
       "Pincode      0\n",
       "dtype: int64"
      ]
     },
     "execution_count": 5,
     "metadata": {},
     "output_type": "execute_result"
    }
   ],
   "source": [
    "\n",
    "data['Accounts'].isna().sum()"
   ]
  },
  {
   "cell_type": "code",
   "execution_count": 6,
   "metadata": {},
   "outputs": [
    {
     "data": {
      "text/plain": [
       "Id              0\n",
       "CreatedDate     0\n",
       "CaseNumber      0\n",
       "HAN            43\n",
       "BillAmount      1\n",
       "Status          0\n",
       "AccountId       0\n",
       "dtype: int64"
      ]
     },
     "execution_count": 6,
     "metadata": {},
     "output_type": "execute_result"
    }
   ],
   "source": [
    "data['Claims'].isna().sum()"
   ]
  },
  {
   "cell_type": "code",
   "execution_count": 34,
   "metadata": {},
   "outputs": [],
   "source": [
    "data['Claims'].HAN = data['Claims'].HAN.fillna('Unknown')\n",
    "data['Claims'].BillAmount = data['Claims'].HAN.fillna(0)"
   ]
  },
  {
   "cell_type": "code",
   "execution_count": 35,
   "metadata": {},
   "outputs": [
    {
     "data": {
      "text/plain": [
       "Id             0\n",
       "CreatedDate    0\n",
       "CaseNumber     0\n",
       "HAN            0\n",
       "BillAmount     0\n",
       "Status         0\n",
       "AccountId      0\n",
       "dtype: int64"
      ]
     },
     "execution_count": 35,
     "metadata": {},
     "output_type": "execute_result"
    }
   ],
   "source": [
    "data['Claims'].isna().sum()"
   ]
  },
  {
   "cell_type": "code",
   "execution_count": 36,
   "metadata": {},
   "outputs": [
    {
     "data": {
      "text/plain": [
       "HAN            0\n",
       "Policy Name    0\n",
       "dtype: int64"
      ]
     },
     "execution_count": 36,
     "metadata": {},
     "output_type": "execute_result"
    }
   ],
   "source": [
    "data['Policies'].isna().sum()"
   ]
  },
  {
   "cell_type": "code",
   "execution_count": 37,
   "metadata": {},
   "outputs": [],
   "source": [
    "with pd.ExcelWriter('Data.xlsx') as writer:  \n",
    "    data['Accounts'].to_excel(writer, sheet_name='Accounts')\n",
    "    data['Claims'].to_excel(writer, sheet_name='Claims')\n",
    "    data['Policies'].to_excel(writer, sheet_name='Policies')"
   ]
  },
  {
   "cell_type": "code",
   "execution_count": 7,
   "metadata": {},
   "outputs": [],
   "source": [
    "data = pd.read_excel(r\"C:\\Users\\HP\\Desktop\\Bajaj_Assignment1\\Data.xlsx\", sheet_name= None)\n",
    "accounts = data['Accounts']\n",
    "claims = data['Claims']\n",
    "policies = data['Policies']"
   ]
  },
  {
   "cell_type": "code",
   "execution_count": 8,
   "metadata": {},
   "outputs": [
    {
     "name": "stdout",
     "output_type": "stream",
     "text": [
      "<class 'pandas.core.frame.DataFrame'>\n",
      "RangeIndex: 60 entries, 0 to 59\n",
      "Data columns (total 7 columns):\n",
      " #   Column      Non-Null Count  Dtype \n",
      "---  ------      --------------  ----- \n",
      " 0   Unnamed: 0  60 non-null     int64 \n",
      " 1   AccountId   60 non-null     object\n",
      " 2   Name        60 non-null     object\n",
      " 3   Age         60 non-null     int64 \n",
      " 4   City        60 non-null     object\n",
      " 5   State       60 non-null     object\n",
      " 6   Pincode     60 non-null     int64 \n",
      "dtypes: int64(3), object(4)\n",
      "memory usage: 3.4+ KB\n"
     ]
    }
   ],
   "source": [
    "accounts.info()"
   ]
  },
  {
   "cell_type": "code",
   "execution_count": 62,
   "metadata": {},
   "outputs": [
    {
     "data": {
      "text/html": [
       "<div>\n",
       "<style scoped>\n",
       "    .dataframe tbody tr th:only-of-type {\n",
       "        vertical-align: middle;\n",
       "    }\n",
       "\n",
       "    .dataframe tbody tr th {\n",
       "        vertical-align: top;\n",
       "    }\n",
       "\n",
       "    .dataframe thead th {\n",
       "        text-align: right;\n",
       "    }\n",
       "</style>\n",
       "<table border=\"1\" class=\"dataframe\">\n",
       "  <thead>\n",
       "    <tr style=\"text-align: right;\">\n",
       "      <th></th>\n",
       "      <th>Unnamed: 0</th>\n",
       "      <th>Id</th>\n",
       "      <th>CreatedDate</th>\n",
       "      <th>CaseNumber</th>\n",
       "      <th>HAN</th>\n",
       "      <th>BillAmount</th>\n",
       "      <th>Status</th>\n",
       "      <th>AccountId</th>\n",
       "    </tr>\n",
       "  </thead>\n",
       "  <tbody>\n",
       "    <tr>\n",
       "      <th>0</th>\n",
       "      <td>0</td>\n",
       "      <td>5008p000001I11XAAS</td>\n",
       "      <td>2021-10-20T03:03:45.000+0000</td>\n",
       "      <td>SR00754586</td>\n",
       "      <td>01CHSP0000002222</td>\n",
       "      <td>01CHSP0000002222</td>\n",
       "      <td>Paid</td>\n",
       "      <td>0012j00000GjoGnAAJ</td>\n",
       "    </tr>\n",
       "  </tbody>\n",
       "</table>\n",
       "</div>"
      ],
      "text/plain": [
       "   Unnamed: 0                  Id                   CreatedDate  CaseNumber  \\\n",
       "0           0  5008p000001I11XAAS  2021-10-20T03:03:45.000+0000  SR00754586   \n",
       "\n",
       "                HAN        BillAmount Status           AccountId  \n",
       "0  01CHSP0000002222  01CHSP0000002222   Paid  0012j00000GjoGnAAJ  "
      ]
     },
     "execution_count": 62,
     "metadata": {},
     "output_type": "execute_result"
    }
   ],
   "source": [
    "\n",
    "claim = claims[claims['Id'] == '5008p000001I11XAAS']\n",
    "claim"
   ]
  },
  {
   "cell_type": "code",
   "execution_count": 64,
   "metadata": {},
   "outputs": [
    {
     "data": {
      "text/plain": [
       "'0012j00000GjoGnAAJ'"
      ]
     },
     "execution_count": 64,
     "metadata": {},
     "output_type": "execute_result"
    }
   ],
   "source": [
    "account_id = claim['AccountId']\n",
    "account_id[0]"
   ]
  },
  {
   "cell_type": "code",
   "execution_count": 65,
   "metadata": {},
   "outputs": [],
   "source": [
    "details = accounts[accounts['AccountId'] == account_id[0]]"
   ]
  },
  {
   "cell_type": "code",
   "execution_count": 66,
   "metadata": {},
   "outputs": [
    {
     "data": {
      "text/html": [
       "<div>\n",
       "<style scoped>\n",
       "    .dataframe tbody tr th:only-of-type {\n",
       "        vertical-align: middle;\n",
       "    }\n",
       "\n",
       "    .dataframe tbody tr th {\n",
       "        vertical-align: top;\n",
       "    }\n",
       "\n",
       "    .dataframe thead th {\n",
       "        text-align: right;\n",
       "    }\n",
       "</style>\n",
       "<table border=\"1\" class=\"dataframe\">\n",
       "  <thead>\n",
       "    <tr style=\"text-align: right;\">\n",
       "      <th></th>\n",
       "      <th>Unnamed: 0</th>\n",
       "      <th>AccountId</th>\n",
       "      <th>Name</th>\n",
       "      <th>Age</th>\n",
       "      <th>City</th>\n",
       "      <th>State</th>\n",
       "      <th>Pincode</th>\n",
       "    </tr>\n",
       "  </thead>\n",
       "  <tbody>\n",
       "    <tr>\n",
       "      <th>0</th>\n",
       "      <td>0</td>\n",
       "      <td>0012j00000GjoGnAAJ</td>\n",
       "      <td>Testt test Kumarr</td>\n",
       "      <td>29</td>\n",
       "      <td>Pune</td>\n",
       "      <td>Maharashtra</td>\n",
       "      <td>411040</td>\n",
       "    </tr>\n",
       "  </tbody>\n",
       "</table>\n",
       "</div>"
      ],
      "text/plain": [
       "   Unnamed: 0           AccountId               Name  Age  City        State  \\\n",
       "0           0  0012j00000GjoGnAAJ  Testt test Kumarr   29  Pune  Maharashtra   \n",
       "\n",
       "   Pincode  \n",
       "0   411040  "
      ]
     },
     "execution_count": 66,
     "metadata": {},
     "output_type": "execute_result"
    }
   ],
   "source": [
    "details"
   ]
  },
  {
   "cell_type": "code",
   "execution_count": 10,
   "metadata": {},
   "outputs": [],
   "source": [
    "data = pd.read_excel(r\"C:\\Users\\HP\\Desktop\\Bajaj_Assignment1\\Data.xlsx\", sheet_name=None)\n",
    "accounts = data['Accounts'].iloc[:, 0:]  "
   ]
  },
  {
   "cell_type": "code",
   "execution_count": 11,
   "metadata": {},
   "outputs": [
    {
     "data": {
      "text/html": [
       "<div>\n",
       "<style scoped>\n",
       "    .dataframe tbody tr th:only-of-type {\n",
       "        vertical-align: middle;\n",
       "    }\n",
       "\n",
       "    .dataframe tbody tr th {\n",
       "        vertical-align: top;\n",
       "    }\n",
       "\n",
       "    .dataframe thead th {\n",
       "        text-align: right;\n",
       "    }\n",
       "</style>\n",
       "<table border=\"1\" class=\"dataframe\">\n",
       "  <thead>\n",
       "    <tr style=\"text-align: right;\">\n",
       "      <th></th>\n",
       "      <th>AccountId</th>\n",
       "      <th>Name</th>\n",
       "      <th>Age</th>\n",
       "      <th>City</th>\n",
       "      <th>State</th>\n",
       "      <th>Pincode</th>\n",
       "    </tr>\n",
       "  </thead>\n",
       "  <tbody>\n",
       "    <tr>\n",
       "      <th>0</th>\n",
       "      <td>0012j00000GjoGnAAJ</td>\n",
       "      <td>Testt test Kumarr</td>\n",
       "      <td>29</td>\n",
       "      <td>Pune</td>\n",
       "      <td>Maharashtra</td>\n",
       "      <td>411040</td>\n",
       "    </tr>\n",
       "    <tr>\n",
       "      <th>1</th>\n",
       "      <td>0012j00000GmxLdAAJ</td>\n",
       "      <td>Testeshaan Testaggarwal</td>\n",
       "      <td>33</td>\n",
       "      <td>Pune</td>\n",
       "      <td>Maharashtra</td>\n",
       "      <td>411004</td>\n",
       "    </tr>\n",
       "    <tr>\n",
       "      <th>2</th>\n",
       "      <td>0018p0000054vjzAAA</td>\n",
       "      <td>Divyatest Test Test</td>\n",
       "      <td>33</td>\n",
       "      <td>Pune</td>\n",
       "      <td>Maharashtra</td>\n",
       "      <td>411004</td>\n",
       "    </tr>\n",
       "    <tr>\n",
       "      <th>3</th>\n",
       "      <td>0018p000004rhlqAAA</td>\n",
       "      <td>Test1 Test Test2</td>\n",
       "      <td>33</td>\n",
       "      <td>Pune</td>\n",
       "      <td>Maharashtra</td>\n",
       "      <td>411004</td>\n",
       "    </tr>\n",
       "    <tr>\n",
       "      <th>4</th>\n",
       "      <td>0018p00000552gZAAQ</td>\n",
       "      <td>Test Test Test</td>\n",
       "      <td>33</td>\n",
       "      <td>Pune</td>\n",
       "      <td>Maharashtra</td>\n",
       "      <td>411004</td>\n",
       "    </tr>\n",
       "    <tr>\n",
       "      <th>...</th>\n",
       "      <td>...</td>\n",
       "      <td>...</td>\n",
       "      <td>...</td>\n",
       "      <td>...</td>\n",
       "      <td>...</td>\n",
       "      <td>...</td>\n",
       "    </tr>\n",
       "    <tr>\n",
       "      <th>56</th>\n",
       "      <td>001OA00000BpXNCYA3</td>\n",
       "      <td>Shweta Test</td>\n",
       "      <td>31</td>\n",
       "      <td>Pune</td>\n",
       "      <td>MH</td>\n",
       "      <td>411004</td>\n",
       "    </tr>\n",
       "    <tr>\n",
       "      <th>57</th>\n",
       "      <td>0018p000003rjI5AAI</td>\n",
       "      <td>Mayur Test</td>\n",
       "      <td>39</td>\n",
       "      <td>Buldhana</td>\n",
       "      <td>Maharashtra</td>\n",
       "      <td>443104</td>\n",
       "    </tr>\n",
       "    <tr>\n",
       "      <th>58</th>\n",
       "      <td>001OA00000Dat51YAB</td>\n",
       "      <td>Ameya Kumar Test</td>\n",
       "      <td>39</td>\n",
       "      <td>Palghar</td>\n",
       "      <td>Maharashtra</td>\n",
       "      <td>401305</td>\n",
       "    </tr>\n",
       "    <tr>\n",
       "      <th>59</th>\n",
       "      <td>001OA0000032e6lYAA</td>\n",
       "      <td>Test Nandnihexa</td>\n",
       "      <td>25</td>\n",
       "      <td>Unknown</td>\n",
       "      <td>Unknown</td>\n",
       "      <td>0</td>\n",
       "    </tr>\n",
       "    <tr>\n",
       "      <th>60</th>\n",
       "      <td>001A</td>\n",
       "      <td>Aarin</td>\n",
       "      <td>20</td>\n",
       "      <td>string</td>\n",
       "      <td>string</td>\n",
       "      <td>0</td>\n",
       "    </tr>\n",
       "  </tbody>\n",
       "</table>\n",
       "<p>61 rows × 6 columns</p>\n",
       "</div>"
      ],
      "text/plain": [
       "             AccountId                     Name  Age      City        State  \\\n",
       "0   0012j00000GjoGnAAJ        Testt test Kumarr   29      Pune  Maharashtra   \n",
       "1   0012j00000GmxLdAAJ  Testeshaan Testaggarwal   33      Pune  Maharashtra   \n",
       "2   0018p0000054vjzAAA      Divyatest Test Test   33      Pune  Maharashtra   \n",
       "3   0018p000004rhlqAAA         Test1 Test Test2   33      Pune  Maharashtra   \n",
       "4   0018p00000552gZAAQ           Test Test Test   33      Pune  Maharashtra   \n",
       "..                 ...                      ...  ...       ...          ...   \n",
       "56  001OA00000BpXNCYA3              Shweta Test   31      Pune           MH   \n",
       "57  0018p000003rjI5AAI               Mayur Test   39  Buldhana  Maharashtra   \n",
       "58  001OA00000Dat51YAB         Ameya Kumar Test   39   Palghar  Maharashtra   \n",
       "59  001OA0000032e6lYAA          Test Nandnihexa   25   Unknown      Unknown   \n",
       "60                001A                    Aarin   20    string       string   \n",
       "\n",
       "    Pincode  \n",
       "0    411040  \n",
       "1    411004  \n",
       "2    411004  \n",
       "3    411004  \n",
       "4    411004  \n",
       "..      ...  \n",
       "56   411004  \n",
       "57   443104  \n",
       "58   401305  \n",
       "59        0  \n",
       "60        0  \n",
       "\n",
       "[61 rows x 6 columns]"
      ]
     },
     "execution_count": 11,
     "metadata": {},
     "output_type": "execute_result"
    }
   ],
   "source": [
    "accounts"
   ]
  },
  {
   "cell_type": "code",
   "execution_count": 12,
   "metadata": {},
   "outputs": [],
   "source": [
    "cus_data = accounts[accounts['AccountId'] == '001A']"
   ]
  },
  {
   "cell_type": "code",
   "execution_count": 7,
   "metadata": {},
   "outputs": [
    {
     "data": {
      "text/html": [
       "<div>\n",
       "<style scoped>\n",
       "    .dataframe tbody tr th:only-of-type {\n",
       "        vertical-align: middle;\n",
       "    }\n",
       "\n",
       "    .dataframe tbody tr th {\n",
       "        vertical-align: top;\n",
       "    }\n",
       "\n",
       "    .dataframe thead th {\n",
       "        text-align: right;\n",
       "    }\n",
       "</style>\n",
       "<table border=\"1\" class=\"dataframe\">\n",
       "  <thead>\n",
       "    <tr style=\"text-align: right;\">\n",
       "      <th></th>\n",
       "      <th>Name</th>\n",
       "      <th>Age</th>\n",
       "      <th>City</th>\n",
       "      <th>State</th>\n",
       "      <th>Pincode</th>\n",
       "    </tr>\n",
       "  </thead>\n",
       "  <tbody>\n",
       "    <tr>\n",
       "      <th>0</th>\n",
       "      <td>Testt test Kumarr</td>\n",
       "      <td>29</td>\n",
       "      <td>Pune</td>\n",
       "      <td>Maharashtra</td>\n",
       "      <td>411040</td>\n",
       "    </tr>\n",
       "    <tr>\n",
       "      <th>1</th>\n",
       "      <td>Testeshaan Testaggarwal</td>\n",
       "      <td>33</td>\n",
       "      <td>Pune</td>\n",
       "      <td>Maharashtra</td>\n",
       "      <td>411004</td>\n",
       "    </tr>\n",
       "    <tr>\n",
       "      <th>2</th>\n",
       "      <td>Divyatest Test Test</td>\n",
       "      <td>33</td>\n",
       "      <td>Pune</td>\n",
       "      <td>Maharashtra</td>\n",
       "      <td>411004</td>\n",
       "    </tr>\n",
       "    <tr>\n",
       "      <th>3</th>\n",
       "      <td>Test1 Test Test2</td>\n",
       "      <td>33</td>\n",
       "      <td>Pune</td>\n",
       "      <td>Maharashtra</td>\n",
       "      <td>411004</td>\n",
       "    </tr>\n",
       "    <tr>\n",
       "      <th>4</th>\n",
       "      <td>Test Test Test</td>\n",
       "      <td>33</td>\n",
       "      <td>Pune</td>\n",
       "      <td>Maharashtra</td>\n",
       "      <td>411004</td>\n",
       "    </tr>\n",
       "    <tr>\n",
       "      <th>...</th>\n",
       "      <td>...</td>\n",
       "      <td>...</td>\n",
       "      <td>...</td>\n",
       "      <td>...</td>\n",
       "      <td>...</td>\n",
       "    </tr>\n",
       "    <tr>\n",
       "      <th>56</th>\n",
       "      <td>Shweta Test</td>\n",
       "      <td>31</td>\n",
       "      <td>Pune</td>\n",
       "      <td>MH</td>\n",
       "      <td>411004</td>\n",
       "    </tr>\n",
       "    <tr>\n",
       "      <th>57</th>\n",
       "      <td>Mayur Test</td>\n",
       "      <td>39</td>\n",
       "      <td>Buldhana</td>\n",
       "      <td>Maharashtra</td>\n",
       "      <td>443104</td>\n",
       "    </tr>\n",
       "    <tr>\n",
       "      <th>58</th>\n",
       "      <td>Ameya Kumar Test</td>\n",
       "      <td>39</td>\n",
       "      <td>Palghar</td>\n",
       "      <td>Maharashtra</td>\n",
       "      <td>401305</td>\n",
       "    </tr>\n",
       "    <tr>\n",
       "      <th>59</th>\n",
       "      <td>Test Nandnihexa</td>\n",
       "      <td>25</td>\n",
       "      <td>Unknown</td>\n",
       "      <td>Unknown</td>\n",
       "      <td>0</td>\n",
       "    </tr>\n",
       "    <tr>\n",
       "      <th>60</th>\n",
       "      <td>Aarin</td>\n",
       "      <td>20</td>\n",
       "      <td>string</td>\n",
       "      <td>string</td>\n",
       "      <td>0</td>\n",
       "    </tr>\n",
       "  </tbody>\n",
       "</table>\n",
       "<p>61 rows × 5 columns</p>\n",
       "</div>"
      ],
      "text/plain": [
       "                       Name  Age      City        State  Pincode\n",
       "0         Testt test Kumarr   29      Pune  Maharashtra   411040\n",
       "1   Testeshaan Testaggarwal   33      Pune  Maharashtra   411004\n",
       "2       Divyatest Test Test   33      Pune  Maharashtra   411004\n",
       "3          Test1 Test Test2   33      Pune  Maharashtra   411004\n",
       "4            Test Test Test   33      Pune  Maharashtra   411004\n",
       "..                      ...  ...       ...          ...      ...\n",
       "56              Shweta Test   31      Pune           MH   411004\n",
       "57               Mayur Test   39  Buldhana  Maharashtra   443104\n",
       "58         Ameya Kumar Test   39   Palghar  Maharashtra   401305\n",
       "59          Test Nandnihexa   25   Unknown      Unknown        0\n",
       "60                    Aarin   20    string       string        0\n",
       "\n",
       "[61 rows x 5 columns]"
      ]
     },
     "execution_count": 7,
     "metadata": {},
     "output_type": "execute_result"
    }
   ],
   "source": [
    "accounts"
   ]
  },
  {
   "cell_type": "code",
   "execution_count": null,
   "metadata": {},
   "outputs": [],
   "source": []
  }
 ],
 "metadata": {
  "kernelspec": {
   "display_name": ".venv",
   "language": "python",
   "name": "python3"
  },
  "language_info": {
   "codemirror_mode": {
    "name": "ipython",
    "version": 3
   },
   "file_extension": ".py",
   "mimetype": "text/x-python",
   "name": "python",
   "nbconvert_exporter": "python",
   "pygments_lexer": "ipython3",
   "version": "3.9.7"
  }
 },
 "nbformat": 4,
 "nbformat_minor": 2
}
